{
 "cells": [
  {
   "cell_type": "markdown",
   "id": "f0c81373",
   "metadata": {},
   "source": [
    "# Basic Problems:"
   ]
  },
  {
   "cell_type": "markdown",
   "id": "d581b2d8",
   "metadata": {},
   "source": [
    "### 1. Variable Swap: Write a Python program to swap the values of two variables without using a temporary variable."
   ]
  },
  {
   "cell_type": "code",
   "execution_count": 4,
   "id": "673b84be",
   "metadata": {},
   "outputs": [
    {
     "name": "stdout",
     "output_type": "stream",
     "text": [
      "Before: Var 1: First Var assigned value\n",
      "Before: Var 2: Second Var assigned value\n",
      "After: Var 1: Second Var assigned value\n",
      "After: Var 2: First Var assigned value\n"
     ]
    }
   ],
   "source": [
    "first_var = 'First Var assigned value'\n",
    "second_var = 'Second Var assigned value'\n",
    "print(f\"Before: Var 1: {first_var}\\nBefore: Var 2: {second_var}\")\n",
    "first_var, second_var = second_var, first_var\n",
    "print(f\"After: Var 1: {first_var}\\nAfter: Var 2: {second_var}\")"
   ]
  },
  {
   "cell_type": "markdown",
   "id": "5d13b705",
   "metadata": {},
   "source": [
    "### 2. Even or Odd: Write a Python program that takes an integer as input and prints whether it is even or odd."
   ]
  },
  {
   "cell_type": "code",
   "execution_count": 8,
   "id": "636c723f",
   "metadata": {},
   "outputs": [
    {
     "name": "stdout",
     "output_type": "stream",
     "text": [
      "Type an Integer: 43656\n",
      "Even\n"
     ]
    }
   ],
   "source": [
    "def even_or_odd(n):\n",
    "    if n%2 == 0:\n",
    "        return 'Even'\n",
    "    else:\n",
    "        return 'Odd'\n",
    "\n",
    "int_input = int(input('Type an Integer: '))\n",
    "print(even_or_odd(int_input))"
   ]
  },
  {
   "cell_type": "markdown",
   "id": "757dafa9",
   "metadata": {},
   "source": [
    "### 3. String Reverse: Write a Python function to reverse a given string and return the reversed string."
   ]
  },
  {
   "cell_type": "code",
   "execution_count": 58,
   "id": "2ca14fad",
   "metadata": {},
   "outputs": [
    {
     "name": "stdout",
     "output_type": "stream",
     "text": [
      "olleH\n"
     ]
    }
   ],
   "source": [
    "def reverse(string):\n",
    "    new_string = ''\n",
    "    lenght = len(string)\n",
    "    for i in range(lenght, 0, -1):\n",
    "        new_string += str(string[i-1])\n",
    "    return new_string\n",
    "\n",
    "print(reverse('Hello'))"
   ]
  },
  {
   "cell_type": "markdown",
   "id": "278fed01",
   "metadata": {},
   "source": [
    "### 4. Type Conversion: Given a list of integers, write a Python program to convert each element of the list to a string."
   ]
  },
  {
   "cell_type": "code",
   "execution_count": 14,
   "id": "aee4d1c4",
   "metadata": {},
   "outputs": [
    {
     "name": "stdout",
     "output_type": "stream",
     "text": [
      "[1, 2, 3, 12, 13, 14, 15]\n",
      "['1', '2', '3', '12', '13', '14', '15']\n"
     ]
    }
   ],
   "source": [
    "int_list = [1, 2, 3, 12, 13, 14, 15]\n",
    "converted_list = [str(i) for i in int_list]\n",
    "\n",
    "print(int_list)\n",
    "print(converted_list)"
   ]
  },
  {
   "cell_type": "markdown",
   "id": "0401e3bf",
   "metadata": {},
   "source": [
    "### 5. Temperature Converter: Write a Python program that converts a temperature in Celsius to Fahrenheit. Take the Celsius temperature as input from the user."
   ]
  },
  {
   "cell_type": "code",
   "execution_count": 21,
   "id": "c625b433",
   "metadata": {},
   "outputs": [
    {
     "name": "stdout",
     "output_type": "stream",
     "text": [
      "Temperature in Celsius: 10\n",
      "10°C is equal to 50.0°F\n"
     ]
    }
   ],
   "source": [
    "def convert_cel_to_far(cel):\n",
    "    return (cel * 9/5) + 32\n",
    "\n",
    "celsius = int(input(\"Temperature in Celsius: \"))\n",
    "farenheit = convert_cel_to_far(celsius)\n",
    "\n",
    "print(f\"{celsius}°C is equal to {farenheit}°F\")"
   ]
  },
  {
   "cell_type": "markdown",
   "id": "89e85c8a",
   "metadata": {},
   "source": [
    "### 6. Data Type Checker: Write a Python function that takes a variable as input and returns the data type of the variable as a string (e.g., “int”, “float”, “str”, “list”, etc.)."
   ]
  },
  {
   "cell_type": "code",
   "execution_count": 33,
   "id": "2faab858",
   "metadata": {},
   "outputs": [
    {
     "name": "stdout",
     "output_type": "stream",
     "text": [
      "int\n",
      "str\n",
      "float\n",
      "list\n"
     ]
    }
   ],
   "source": [
    "def data_type_checker(var):\n",
    "    typ = str(type(var))\n",
    "    return typ.split(\"'\")[1]\n",
    "\n",
    "variable1 = 45\n",
    "variable2 = \"Hello\"\n",
    "variable3 = 11.11\n",
    "variable4 = [1, 2, 3]\n",
    "\n",
    "print(data_type_checker(variable1))\n",
    "print(data_type_checker(variable2))\n",
    "print(data_type_checker(variable3))\n",
    "print(data_type_checker(variable4))"
   ]
  },
  {
   "cell_type": "markdown",
   "id": "3e734f4e",
   "metadata": {},
   "source": [
    "### 7. String Palindrome: Write a Python function to check if a given string is a palindrome or not."
   ]
  },
  {
   "cell_type": "code",
   "execution_count": 41,
   "id": "6ea948c3",
   "metadata": {},
   "outputs": [
    {
     "name": "stdout",
     "output_type": "stream",
     "text": [
      "Type a String: NurSeSRun\n",
      "Palindrome\n"
     ]
    }
   ],
   "source": [
    "def check_palindrome(string):\n",
    "    string = string.lower()\n",
    "    reverse_string = (string[::-1]).lower()\n",
    "    if reverse_string == string:\n",
    "        return 'Palindrome'\n",
    "    else:\n",
    "        return 'Not Palindrome'\n",
    "\n",
    "inp_string = input(\"Type a String: \")\n",
    "print(check_palindrome(inp_string))"
   ]
  },
  {
   "cell_type": "markdown",
   "id": "75bf1ca4",
   "metadata": {},
   "source": [
    "### 8. String Reversal with Slicing: Write a Python function to reverse a given string using slicing."
   ]
  },
  {
   "cell_type": "code",
   "execution_count": 42,
   "id": "75ea9294",
   "metadata": {},
   "outputs": [
    {
     "name": "stdout",
     "output_type": "stream",
     "text": [
      "dlrow olleH\n"
     ]
    }
   ],
   "source": [
    "def reverse(string):\n",
    "    return string[::-1]\n",
    "\n",
    "print(reverse('Hello world'))"
   ]
  },
  {
   "cell_type": "markdown",
   "id": "bdbbd73d",
   "metadata": {},
   "source": [
    "### 9. String Concatenation: Write a Python program that takes two strings as input and concatenates them into a single string without using the `+` operator."
   ]
  },
  {
   "cell_type": "code",
   "execution_count": 62,
   "id": "afad2409",
   "metadata": {},
   "outputs": [
    {
     "name": "stdout",
     "output_type": "stream",
     "text": [
      "String 1:hello\n",
      "String 2:world\n",
      "Single String:\n",
      "\tWithout Space: helloworld\n",
      "\tWith Space: hello world\n"
     ]
    }
   ],
   "source": [
    "string1 = input(\"String 1:\")\n",
    "string2 = input(\"String 2:\")\n",
    "\n",
    "single_str = ''.join([string1, string2])\n",
    "single_str_withSpace = ' '.join([string1, string2])\n",
    "\n",
    "print(f\"Single String:\\n\\tWithout Space: {single_str}\\n\\tWith Space: {single_str_withSpace}\")"
   ]
  },
  {
   "cell_type": "markdown",
   "id": "6ed7fc45",
   "metadata": {},
   "source": [
    "### 10. Typecasting Challenge: Given three variables: `a = ‘100’`, `b = 25`, and `c = ‘10.5’`, write a Python program to perform the following operations and print the results:\n",
    "– Convert `a` to an integer and add it to `b`.\n",
    "– Convert `c` to a float and subtract it from the result of the first operation.\n",
    "– Convert the final result to a string and concatenate it with the string ” is the answer.”"
   ]
  },
  {
   "cell_type": "code",
   "execution_count": 65,
   "id": "b0d83a90",
   "metadata": {},
   "outputs": [
    {
     "name": "stdout",
     "output_type": "stream",
     "text": [
      "114.5 is the answer\n"
     ]
    }
   ],
   "source": [
    "#given Variables\n",
    "a = '100'\n",
    "b = 25\n",
    "c = '10.5'\n",
    "\n",
    "first_op_res = int(a) + b\n",
    "final_result = first_op_res - float(c)\n",
    "string = \" is the answer\"\n",
    "print(''.join([str(final_result), string]))"
   ]
  },
  {
   "cell_type": "markdown",
   "id": "b4d73ac0",
   "metadata": {},
   "source": [
    "# Python Conditional Statements:\n"
   ]
  },
  {
   "cell_type": "markdown",
   "id": "42e3d8ba",
   "metadata": {},
   "source": [
    "### 11. Positive, Negative, or Zero: Write a Python program that takes a number as input and prints whether it is positive, negative, or zero."
   ]
  },
  {
   "cell_type": "code",
   "execution_count": 8,
   "id": "a9af0f87",
   "metadata": {},
   "outputs": [
    {
     "name": "stdout",
     "output_type": "stream",
     "text": [
      "Enter an int: -0.11\n",
      "-0.11 is Negative\n"
     ]
    }
   ],
   "source": [
    "def pnz(n):\n",
    "    if n > 0:\n",
    "        return 'Positive'\n",
    "    elif n < 0:\n",
    "        return 'Negative'\n",
    "    elif n == 0:\n",
    "        return 'Zero'\n",
    "\n",
    "inp = input(\"Enter an int: \")\n",
    "print(f\"{inp} is {pnz(float(inp))}\")"
   ]
  },
  {
   "cell_type": "markdown",
   "id": "39adafa6",
   "metadata": {},
   "source": [
    "### 12. Largest of Three Numbers: Write a Python program that takes three numbers as input and prints the largest among them."
   ]
  },
  {
   "cell_type": "code",
   "execution_count": 12,
   "id": "9cde7d81",
   "metadata": {},
   "outputs": [
    {
     "name": "stdout",
     "output_type": "stream",
     "text": [
      "Enter number 1:5\n",
      "Enter number 2:2\n",
      "Enter number 3:6\n",
      "6\n"
     ]
    }
   ],
   "source": [
    "li = []\n",
    "for i in range(3):\n",
    "    inp = input(f\"Enter number {i+1}:\")\n",
    "    li.append(int(inp))\n",
    "\n",
    "print(max(li))"
   ]
  },
  {
   "cell_type": "markdown",
   "id": "c86d355a",
   "metadata": {},
   "source": [
    "### 13. Leap Year Checker: Write a Python program that takes a year as input and determines if it is a leap year or not."
   ]
  },
  {
   "cell_type": "code",
   "execution_count": 25,
   "id": "e42993e8",
   "metadata": {},
   "outputs": [
    {
     "name": "stdout",
     "output_type": "stream",
     "text": [
      "Type your year (YYYY): 2017\n",
      "2017 is not a leap year\n"
     ]
    }
   ],
   "source": [
    "def is_leap(year):\n",
    "    if year%4 == 0:\n",
    "        if year%100 == 0:\n",
    "            if year%400 == 0:\n",
    "                return True\n",
    "            else:\n",
    "                return False\n",
    "        else:\n",
    "            return True\n",
    "    else:\n",
    "        return False\n",
    "    \n",
    "input_year = int(input(\"Type your year (YYYY): \"))\n",
    "print(f\"{input_year} is a leap year\" if is_leap(input_year) else f\"{input_year} is not a leap year\")"
   ]
  },
  {
   "cell_type": "markdown",
   "id": "b238f421",
   "metadata": {},
   "source": [
    "### 14. Grades Classification: Write a Python program that takes a student’s percentage as input and prints their corresponding grade according to the following criteria:\n",
    "– 90% or above: A+\n",
    "– 80-89%: A\n",
    "– 70-79%: B\n",
    "– 60-69%: C\n",
    "– Below 60%: Fail"
   ]
  },
  {
   "cell_type": "code",
   "execution_count": 42,
   "id": "3d565293",
   "metadata": {},
   "outputs": [
    {
     "name": "stdout",
     "output_type": "stream",
     "text": [
      "Enter your student's percentage(without '%'): 81\n",
      "Student Passed, A\n"
     ]
    }
   ],
   "source": [
    "def get_grade(percentage):\n",
    "    if percentage >= 90:\n",
    "        return \"Passed, A+\"\n",
    "    elif percentage >= 80:\n",
    "        return \"Passed, A\"\n",
    "    elif percentage >= 70:\n",
    "        return \"Passed, B\"\n",
    "    elif percentage >= 60:\n",
    "        return \"Passed, C\"\n",
    "    else:\n",
    "        return \"Failed, F\"\n",
    "    \n",
    "userinp = float(input(\"Enter your student's percentage(without '%'): \"))\n",
    "\n",
    "if 0 > userinp or userinp > 100:\n",
    "    print(\"Invalid Input!!\")\n",
    "else:\n",
    "    print(f\"Student {get_grade(userinp)}\")"
   ]
  },
  {
   "cell_type": "markdown",
   "id": "3696dafd",
   "metadata": {},
   "source": [
    "### 15. Vowel or Consonant: Write a Python program that takes a single character as input and determines whether it is a vowel or a consonant."
   ]
  },
  {
   "cell_type": "code",
   "execution_count": 50,
   "id": "e64d0dd2",
   "metadata": {},
   "outputs": [
    {
     "name": "stdout",
     "output_type": "stream",
     "text": [
      "Enter a character: d\n",
      "d is consonant\n"
     ]
    }
   ],
   "source": [
    "def check_vowel(char, vowel_list):\n",
    "    if char.lower() in vowel_list:\n",
    "        return True\n",
    "\n",
    "\n",
    "\n",
    "vowel = ['a', 'e', 'i', 'o', 'u']\n",
    "userinp = input(\"Enter a character: \")\n",
    "if len(userinp) != 1:\n",
    "    print(\"Invalid Input!!\")\n",
    "else:\n",
    "    if check_vowel(userinp, vowel): \n",
    "        print(userinp + \" is vowel\")\n",
    "    else:\n",
    "        print(userinp + \" is consonant\")"
   ]
  },
  {
   "cell_type": "markdown",
   "id": "aa575188",
   "metadata": {},
   "source": [
    "### 16. Time Classification: Write a Python program that takes the time in hours (24-hour format) as input and prints “Good Morning”, “Good Afternoon”, “Good Evening”, or “Good Night” based on the time."
   ]
  },
  {
   "cell_type": "code",
   "execution_count": 74,
   "id": "87a904d0",
   "metadata": {},
   "outputs": [
    {
     "name": "stdout",
     "output_type": "stream",
     "text": [
      "Input hour format(hh) 24h format: 15\n",
      "Good Afternoon!\n"
     ]
    }
   ],
   "source": [
    "hour = int(input(\"Input hour format(hh) 24h format: \"))\n",
    "\n",
    "if hour >= 0 and hour < 6:\n",
    "    print(\"Good Night!\")\n",
    "elif hour <= 12 and hour >= 6:\n",
    "    print(\"Good Morning!\")\n",
    "elif hour <= 18 and hour > 12: \n",
    "    print(\"Good Afternoon!\")\n",
    "elif hour > 18 and hour <=23:\n",
    "    print(\"Good Evening!\")\n",
    "else:\n",
    "    print(\"Invalid input!\")"
   ]
  },
  {
   "cell_type": "markdown",
   "id": "ab314dfe",
   "metadata": {},
   "source": [
    "### 17. Triangle Type Checker: Write a Python program that takes three sides of a triangle as input and determines whether it forms an equilateral, isosceles, or scalene triangle."
   ]
  },
  {
   "cell_type": "code",
   "execution_count": 85,
   "id": "10d39d9d",
   "metadata": {},
   "outputs": [
    {
     "name": "stdout",
     "output_type": "stream",
     "text": [
      "Type side 1 Length: 69\n",
      "Type side 2 Length: 69\n",
      "Type side 3 Length: 420\n",
      "Isosceles Triangle\n"
     ]
    }
   ],
   "source": [
    "sides = set()\n",
    "for i in range(3):\n",
    "    inp = float(input(f\"Type side {i+1} Length: \"))\n",
    "    sides.add(inp)\n",
    "    \n",
    "length = len(sides)\n",
    "\n",
    "if length == 3:\n",
    "    print(\"Scalene Triangle\")\n",
    "elif length == 2:\n",
    "    print(\"Isosceles Triangle\")\n",
    "elif length == 1:\n",
    "    print(\"Equilateral Triangle\")"
   ]
  },
  {
   "cell_type": "markdown",
   "id": "95e5f6de",
   "metadata": {},
   "source": [
    "### 18. Quadratic Equation Solver: Write a Python program that takes the coefficients (a, b, c) of a quadratic equation as input and calculates and prints the real roots (if they exist) or a message indicating the complex roots."
   ]
  },
  {
   "cell_type": "code",
   "execution_count": 104,
   "id": "bfe41e82",
   "metadata": {},
   "outputs": [
    {
     "name": "stdout",
     "output_type": "stream",
     "text": [
      "Enter a:1\n",
      "Enter b:-8\n",
      "Enter c:16\n",
      "Root 1: 4.0\n",
      "Root 2: 4.0\n"
     ]
    }
   ],
   "source": [
    "import math\n",
    "\n",
    "a = int(input(\"Enter a:\"))\n",
    "b = int(input(\"Enter b:\"))\n",
    "c = int(input(\"Enter c:\"))\n",
    "\n",
    "def get_roots(a,b,c):\n",
    "    x1 = (-b + math.sqrt(b**2 - 4*a*c)) / (2*a)\n",
    "    x2 = (-b - math.sqrt(b**2 - 4*a*c)) / (2*a)\n",
    "    return x1, x2\n",
    "\n",
    "root1, root2 = get_roots(a, b, c)\n",
    "\n",
    "if root1 is not None and root2 is not None:\n",
    "    print(f\"Root 1: {root1}\")\n",
    "    print(f\"Root 2: {root2}\")\n",
    "else:\n",
    "    print(\"The quadratic equation has complex roots.\")\n"
   ]
  },
  {
   "cell_type": "markdown",
   "id": "4f2796dc",
   "metadata": {},
   "source": [
    "### 19. Number Ranges: Write a Python program that takes an integer as input and prints whether the number falls within the ranges: 0-50, 51-100, 101-150, or above 150."
   ]
  },
  {
   "cell_type": "code",
   "execution_count": 3,
   "id": "1f49da5a",
   "metadata": {},
   "outputs": [
    {
     "name": "stdout",
     "output_type": "stream",
     "text": [
      "Enter Number: asd\n",
      "Invalid Input!\n"
     ]
    }
   ],
   "source": [
    "try:\n",
    "    number = int(input(\"Enter Number: \"))\n",
    "    if number in range(0, 50+1):\n",
    "        print(\"Number is in range 0-50\")\n",
    "    elif number in range(51, 100+1):\n",
    "        print(\"Number is in range 50-100\")\n",
    "    elif number in range(100, 150+1):\n",
    "        print(\"Number is in range 101-150\")\n",
    "    elif number > 150:\n",
    "        print(\"Number is in range above 150\")\n",
    "    else:\n",
    "        print(\"Inavlid Input. Number should be greater than 0\")\n",
    "except ValueError:\n",
    "    print(\"Invalid Input!\")"
   ]
  },
  {
   "cell_type": "markdown",
   "id": "b58a4c03",
   "metadata": {},
   "source": [
    "# For & While Loops:"
   ]
  },
  {
   "cell_type": "markdown",
   "id": "45e709ad",
   "metadata": {},
   "source": [
    "### 20. Sum of N Numbers: Write a Python program using a for loop to calculate the sum of the first N natural numbers, where N is taken as input from the user."
   ]
  },
  {
   "cell_type": "code",
   "execution_count": 5,
   "id": "24a29e68",
   "metadata": {},
   "outputs": [
    {
     "name": "stdout",
     "output_type": "stream",
     "text": [
      "Enter a number: 5\n",
      "The sum of first 5 natural numbers is 15\n"
     ]
    }
   ],
   "source": [
    "n = int(input(\"Enter a number: \"))\n",
    "result = 0\n",
    "for i in range(0, n+1):\n",
    "    result += i\n",
    "print(f\"The sum of first {n} natural numbers is {result}\")"
   ]
  },
  {
   "cell_type": "markdown",
   "id": "14ca15d9-256f-466a-89fb-3d18a6d90eed",
   "metadata": {},
   "source": [
    "### 21. Factorial Calculator: Write a Python program using a while loop to calculate the factorial of a given number N."
   ]
  },
  {
   "cell_type": "code",
   "execution_count": 12,
   "id": "6369d486",
   "metadata": {},
   "outputs": [
    {
     "name": "stdin",
     "output_type": "stream",
     "text": [
      "Type the N:  3\n"
     ]
    },
    {
     "name": "stdout",
     "output_type": "stream",
     "text": [
      "Factorial is 6\n"
     ]
    }
   ],
   "source": [
    "n = int(input(\"Type the N: \"))\n",
    "factorial = 1\n",
    "if n < 0:\n",
    "    print(\"Negative numbers not allowed\")\n",
    "elif n == 0:\n",
    "    print(f\"Factorial is {factorial}\")\n",
    "else:\n",
    "    while n > 0:\n",
    "        factorial *= n\n",
    "        n -= 1\n",
    "    print(f\"Factorial is {factorial}\")"
   ]
  },
  {
   "cell_type": "markdown",
   "id": "a65fd368-b02a-4cd2-9bc5-bc8508ed8763",
   "metadata": {},
   "source": [
    "### 22. Table of a Number: Write a Python program using a for loop to print the multiplication table of a given number N."
   ]
  },
  {
   "cell_type": "code",
   "execution_count": 1,
   "id": "e4fb5be5-4028-4f6b-b4da-cabf48ace11c",
   "metadata": {},
   "outputs": [
    {
     "name": "stdin",
     "output_type": "stream",
     "text": [
      "Number:  2\n"
     ]
    },
    {
     "name": "stdout",
     "output_type": "stream",
     "text": [
      "2 x 0 = 0\n",
      "2 x 1 = 2\n",
      "2 x 2 = 4\n",
      "2 x 3 = 6\n",
      "2 x 4 = 8\n",
      "2 x 5 = 10\n",
      "2 x 6 = 12\n",
      "2 x 7 = 14\n",
      "2 x 8 = 16\n",
      "2 x 9 = 18\n",
      "2 x 10 = 20\n"
     ]
    }
   ],
   "source": [
    "n = int(input(\"Number: \"))\n",
    "\n",
    "for i in range(11):\n",
    "    print(f\"{n} x {i} =\", n*i)"
   ]
  },
  {
   "cell_type": "markdown",
   "id": "b260f3ba-b841-4465-8efb-e7b4e2d54581",
   "metadata": {},
   "source": [
    "### 23. Count Digits in a Number: Write a Python program using a while loop to count the number of digits in a given integer N."
   ]
  },
  {
   "cell_type": "code",
   "execution_count": 10,
   "id": "9fd90e0d-7ac0-45d3-9681-2c690bce7bef",
   "metadata": {},
   "outputs": [
    {
     "name": "stdin",
     "output_type": "stream",
     "text": [
      "Type Number:  345345\n"
     ]
    },
    {
     "name": "stdout",
     "output_type": "stream",
     "text": [
      "Digits Count for 345345 is 6\n"
     ]
    }
   ],
   "source": [
    "n = int(input(\"Type Number: \"))\n",
    "N = abs(n)\n",
    "count = 0\n",
    "while N > 0:\n",
    "    N //= 10\n",
    "    count += 1\n",
    "print(f\"Digits Count for {n} is {count}\")"
   ]
  },
  {
   "cell_type": "markdown",
   "id": "7a6d09f0-0f98-4b75-a2e0-5084591133f5",
   "metadata": {},
   "source": [
    "### 24. Fibonacci Sequence: Write a Python program using a for loop to generate the Fibonacci sequence up to a given limit N.\n",
    "\n"
   ]
  },
  {
   "cell_type": "code",
   "execution_count": 6,
   "id": "c7020876-863d-4936-9786-17bc57b77a95",
   "metadata": {},
   "outputs": [
    {
     "name": "stdout",
     "output_type": "stream",
     "text": [
      "Type N: 10\n",
      "0\n",
      "1\n",
      "1\n",
      "2\n",
      "3\n",
      "5\n",
      "8\n"
     ]
    }
   ],
   "source": [
    "n = int(input(\"Type N: \"))\n",
    "\n",
    "n1 = 0\n",
    "n2 = 1\n",
    "print(n1)\n",
    "print(n2)\n",
    "for i in range(2, n):\n",
    "    n3 = n1 + n2\n",
    "    if n3 > n:\n",
    "        break\n",
    "    print(n3)\n",
    "    n1, n2 = n2, n3"
   ]
  },
  {
   "cell_type": "markdown",
   "id": "6c1dbe53",
   "metadata": {},
   "source": [
    "### 25.Sum of Even Numbers: Write a Python program using a while loop to calculate the sum of all even numbers between 1 and N, where N is taken as input from the user."
   ]
  },
  {
   "cell_type": "code",
   "execution_count": 8,
   "id": "389718b1",
   "metadata": {},
   "outputs": [
    {
     "name": "stdout",
     "output_type": "stream",
     "text": [
      "Enter a number: 12\n",
      "0\n",
      "2\n",
      "4\n",
      "6\n",
      "8\n",
      "10\n",
      "12\n",
      "Sum of all the even numbers is {n1}\n"
     ]
    }
   ],
   "source": [
    "\n",
    "n = int(input('Enter a number: '))\n",
    "n1 = 0\n",
    "i = 0\n",
    "while i <= n:\n",
    "    if i % 2 == 0:\n",
    "        print(i)\n",
    "        n1+=i\n",
    "    i+=1\n",
    "print(\"Sum of all the even numbers is {n1}\")"
   ]
  },
  {
   "cell_type": "markdown",
   "id": "12792ea5",
   "metadata": {},
   "source": [
    "### 26. Print Patterns: Write a Python program using nested for loops to print various patterns, such as a right-angled triangle, an inverted right-angled triangle, and so on."
   ]
  },
  {
   "cell_type": "code",
   "execution_count": 17,
   "id": "87e37383",
   "metadata": {},
   "outputs": [
    {
     "name": "stdout",
     "output_type": "stream",
     "text": [
      "Enter a number: 2\n",
      "* \n",
      "* * \n"
     ]
    }
   ],
   "source": [
    "def print_right_triangle_pattern(rows):\n",
    "    for i in range(1, rows + 1):\n",
    "        for j in range(1, i + 1):\n",
    "            print(\"*\", end=\" \")\n",
    "        print()\n",
    "\n",
    "# Example usage:\n",
    "print_right_triangle_pattern(int(input('Enter a number: ')))\n"
   ]
  },
  {
   "cell_type": "markdown",
   "id": "d24b8e54",
   "metadata": {},
   "source": [
    "### 27 Prime Number Checker: Write a Python program using a while loop to check if a given number N is prime or not."
   ]
  },
  {
   "cell_type": "code",
   "execution_count": 24,
   "id": "b970d915",
   "metadata": {},
   "outputs": [
    {
     "name": "stdout",
     "output_type": "stream",
     "text": [
      "Enter a number: 10\n",
      "10 is not a prime number.\n"
     ]
    }
   ],
   "source": [
    "def is_prime(num):\n",
    "    if num <= 1:\n",
    "        return False\n",
    "    elif num== 2:\n",
    "        return True\n",
    "    elif num % 2 == 0:\n",
    "        return False\n",
    "    divisor = 3\n",
    "    while divisor * divisor <= num:\n",
    "        if num% divisor == 0:\n",
    "            return False\n",
    "        divisor += 2\n",
    "    return True\n",
    "user_input = int(input(\"Enter a number: \"))\n",
    "\n",
    "if is_prime(user_input):\n",
    "    print(f\"{user_input} is a prime number.\")\n",
    "else:\n",
    "    print(f\"{user_input} is not a prime number.\")\n"
   ]
  },
  {
   "cell_type": "markdown",
   "id": "c443d1bd",
   "metadata": {},
   "source": [
    "### 28. List Manipulation: Given a list of integers, write a Python program using a for loop to find the sum, average, maximum, and minimum values in the list."
   ]
  },
  {
   "cell_type": "code",
   "execution_count": 37,
   "id": "4bf157bb",
   "metadata": {},
   "outputs": [
    {
     "name": "stdout",
     "output_type": "stream",
     "text": [
      "Sum: 50\n",
      "Average: 8.33\n",
      "Maximum: 15\n",
      "Minimum: 3\n"
     ]
    }
   ],
   "source": [
    "def list_statistics(numbers):\n",
    "    if not numbers:\n",
    "        print(\"The list is empty.\")\n",
    "        return\n",
    "    total = 0\n",
    "    count = 0\n",
    "    maximum = float('-inf')  \n",
    "    minimum = float('inf')  \n",
    "    for num in numbers:\n",
    "        total += num\n",
    "        count += 1\n",
    "        if num > maximum:\n",
    "            maximum = num\n",
    "        if num < minimum:\n",
    "            minimum = num\n",
    "\n",
    "    average = total / count\n",
    "    print(f\"Sum: {total}\")\n",
    "    print(f\"Average: {average:.2f}\")\n",
    "    print(f\"Maximum: {maximum}\")\n",
    "    print(f\"Minimum: {minimum}\")\n",
    "\n",
    "my_numbers = [5, 12, 3, 8, 15, 7]\n",
    "list_statistics(my_numbers)\n",
    "\n"
   ]
  },
  {
   "cell_type": "markdown",
   "id": "36d8a687",
   "metadata": {},
   "source": [
    "### 28. List Manipulation: Given a list of integers, write a Python program using a for loop to find the sum, average, maximum, and minimum values in the list."
   ]
  },
  {
   "cell_type": "code",
   "execution_count": 49,
   "id": "7384cee0",
   "metadata": {},
   "outputs": [
    {
     "name": "stdout",
     "output_type": "stream",
     "text": [
      "Enter a number: unknwon\n",
      "Reversed String: nownknu\n"
     ]
    }
   ],
   "source": [
    "def reverse_string(input_str):\n",
    "    reversed= \"\"\n",
    "    index = len(input_str) - 1\n",
    "    \n",
    "    while index >= 0:\n",
    "        reversed+= input_str[index]\n",
    "        index -= 1\n",
    "\n",
    "    return reversed\n",
    "\n",
    "original_string = input(\"Enter a number: \")\n",
    "reversed_result = reverse_string(original_string)\n",
    "\n",
    "print(f\"Reversed String: {reversed_result}\")"
   ]
  },
  {
   "cell_type": "markdown",
   "id": "a768487c",
   "metadata": {},
   "source": [
    "###  30. Multiplication Table: Write a Python program using nested loops to print the multiplication table from 1 to 10."
   ]
  },
  {
   "cell_type": "code",
   "execution_count": 51,
   "id": "e7b6aa9f",
   "metadata": {},
   "outputs": [
    {
     "name": "stdout",
     "output_type": "stream",
     "text": [
      "1 x 1 = 1\n",
      "1 x 2 = 2\n",
      "1 x 3 = 3\n",
      "1 x 4 = 4\n",
      "1 x 5 = 5\n",
      "1 x 6 = 6\n",
      "1 x 7 = 7\n",
      "1 x 8 = 8\n",
      "1 x 9 = 9\n",
      "1 x 10 = 10\n",
      "2 x 1 = 2\n",
      "2 x 2 = 4\n",
      "2 x 3 = 6\n",
      "2 x 4 = 8\n",
      "2 x 5 = 10\n",
      "2 x 6 = 12\n",
      "2 x 7 = 14\n",
      "2 x 8 = 16\n",
      "2 x 9 = 18\n",
      "2 x 10 = 20\n",
      "3 x 1 = 3\n",
      "3 x 2 = 6\n",
      "3 x 3 = 9\n",
      "3 x 4 = 12\n",
      "3 x 5 = 15\n",
      "3 x 6 = 18\n",
      "3 x 7 = 21\n",
      "3 x 8 = 24\n",
      "3 x 9 = 27\n",
      "3 x 10 = 30\n",
      "4 x 1 = 4\n",
      "4 x 2 = 8\n",
      "4 x 3 = 12\n",
      "4 x 4 = 16\n",
      "4 x 5 = 20\n",
      "4 x 6 = 24\n",
      "4 x 7 = 28\n",
      "4 x 8 = 32\n",
      "4 x 9 = 36\n",
      "4 x 10 = 40\n",
      "5 x 1 = 5\n",
      "5 x 2 = 10\n",
      "5 x 3 = 15\n",
      "5 x 4 = 20\n",
      "5 x 5 = 25\n",
      "5 x 6 = 30\n",
      "5 x 7 = 35\n",
      "5 x 8 = 40\n",
      "5 x 9 = 45\n",
      "5 x 10 = 50\n",
      "6 x 1 = 6\n",
      "6 x 2 = 12\n",
      "6 x 3 = 18\n",
      "6 x 4 = 24\n",
      "6 x 5 = 30\n",
      "6 x 6 = 36\n",
      "6 x 7 = 42\n",
      "6 x 8 = 48\n",
      "6 x 9 = 54\n",
      "6 x 10 = 60\n",
      "7 x 1 = 7\n",
      "7 x 2 = 14\n",
      "7 x 3 = 21\n",
      "7 x 4 = 28\n",
      "7 x 5 = 35\n",
      "7 x 6 = 42\n",
      "7 x 7 = 49\n",
      "7 x 8 = 56\n",
      "7 x 9 = 63\n",
      "7 x 10 = 70\n",
      "8 x 1 = 8\n",
      "8 x 2 = 16\n",
      "8 x 3 = 24\n",
      "8 x 4 = 32\n",
      "8 x 5 = 40\n",
      "8 x 6 = 48\n",
      "8 x 7 = 56\n",
      "8 x 8 = 64\n",
      "8 x 9 = 72\n",
      "8 x 10 = 80\n",
      "9 x 1 = 9\n",
      "9 x 2 = 18\n",
      "9 x 3 = 27\n",
      "9 x 4 = 36\n",
      "9 x 5 = 45\n",
      "9 x 6 = 54\n",
      "9 x 7 = 63\n",
      "9 x 8 = 72\n",
      "9 x 9 = 81\n",
      "9 x 10 = 90\n",
      "10 x 1 = 10\n",
      "10 x 2 = 20\n",
      "10 x 3 = 30\n",
      "10 x 4 = 40\n",
      "10 x 5 = 50\n",
      "10 x 6 = 60\n",
      "10 x 7 = 70\n",
      "10 x 8 = 80\n",
      "10 x 9 = 90\n",
      "10 x 10 = 100\n"
     ]
    }
   ],
   "source": [
    "for i in range(1, 11):\n",
    "    for j in range(1, 11):\n",
    "        result = i * j\n",
    "        print(f\"{i} x {j} = {result}\")\n"
   ]
  },
  {
   "cell_type": "markdown",
   "id": "10edefc6",
   "metadata": {},
   "source": [
    "### 31. Print Patterns: Write a Python program using nested loops to print the following pattern:\n",
    "\n",
    "*\n",
    "\n",
    "**\n"
   ]
  },
  {
   "cell_type": "code",
   "execution_count": 73,
   "id": "66fafb6f",
   "metadata": {},
   "outputs": [
    {
     "name": "stdout",
     "output_type": "stream",
     "text": [
      "* \n",
      "* * \n",
      "* * * \n",
      "* * * * \n",
      "* * * * * \n",
      "* * * * * * \n",
      "* * * * * * * \n"
     ]
    }
   ],
   "source": [
    "for i in range(1, 8):\n",
    "    for j in range(i): \n",
    "        print(\"*\",end=\" \")\n",
    "    \n",
    "    print();\n"
   ]
  },
  {
   "cell_type": "markdown",
   "id": "8b00a130",
   "metadata": {},
   "source": [
    "### 32. Matrix Multiplication: Write a Python program using nested loops to multiply two matrices.\n"
   ]
  },
  {
   "cell_type": "code",
   "execution_count": 75,
   "id": "d114abce",
   "metadata": {},
   "outputs": [
    {
     "name": "stdout",
     "output_type": "stream",
     "text": [
      "Matrix 1:\n",
      "[2, 3, 4]\n",
      "[5, 6, 7]\n",
      "\n",
      "Matrix 2:\n",
      "[8, 9]\n",
      "[10, 11]\n",
      "[12, 13]\n",
      "\n",
      "Result Matrix:\n",
      "[94, 103]\n",
      "[184, 202]\n"
     ]
    }
   ],
   "source": [
    "def matrix_multiply(mat1, mat2):\n",
    "\n",
    "    rows_mat1 = len(mat1)\n",
    "    cols_mat1 = len(mat1[0])\n",
    "    rows_mat2 = len(mat2)\n",
    "    cols_mat2 = len(mat2[0])\n",
    "\n",
    "    if cols_mat1 != rows_mat2:\n",
    "        print(\"Matrice cannot be multiplied\")\n",
    "        return None\n",
    "\n",
    "    result = [[0 for _ in range(cols_mat2)] for _ in range(rows_mat1)]\n",
    "\n",
    "    for i in range(rows_mat1):\n",
    "        for j in range(cols_mat2):\n",
    "            for k in range(cols_mat1):\n",
    "                result[i][j] += mat1[i][k] * mat2[k][j]\n",
    "\n",
    "    return result\n",
    "\n",
    "matrix1 = [\n",
    "    [2, 3, 4],\n",
    "    [5, 6, 7],\n",
    "]\n",
    "\n",
    "matrix2 = [\n",
    "    [8, 9],\n",
    "    [10, 11],\n",
    "    [12, 13],\n",
    "]\n",
    "\n",
    "result_matrix = matrix_multiply(matrix1, matrix2)\n",
    "\n",
    "if result_matrix:\n",
    "    print(\"Matrix 1:\")\n",
    "    for row in matrix1:\n",
    "        print(row)\n",
    "\n",
    "    print(\"\\nMatrix 2:\")\n",
    "    for row in matrix2:\n",
    "        print(row)\n",
    "\n",
    "    print(\"\\nResult Matrix:\")\n",
    "    for row in result_matrix:\n",
    "        print(row)"
   ]
  },
  {
   "cell_type": "code",
   "execution_count": null,
   "id": "5da6c537",
   "metadata": {},
   "outputs": [],
   "source": []
  }
 ],
 "metadata": {
  "kernelspec": {
   "display_name": "Python 3 (ipykernel)",
   "language": "python",
   "name": "python3"
  },
  "language_info": {
   "codemirror_mode": {
    "name": "ipython",
    "version": 3
   },
   "file_extension": ".py",
   "mimetype": "text/x-python",
   "name": "python",
   "nbconvert_exporter": "python",
   "pygments_lexer": "ipython3",
   "version": "3.11.2"
  }
 },
 "nbformat": 4,
 "nbformat_minor": 5
}
